{
  "nbformat": 4,
  "nbformat_minor": 0,
  "metadata": {
    "colab": {
      "name": "code-clones-bag-of-words.ipynb",
      "version": "0.3.2",
      "provenance": [],
      "collapsed_sections": [],
      "include_colab_link": true
    },
    "kernelspec": {
      "display_name": "Python 3",
      "language": "python",
      "name": "python3"
    }
  },
  "cells": [
    {
      "cell_type": "markdown",
      "metadata": {
        "id": "view-in-github",
        "colab_type": "text"
      },
      "source": [
        "<a href=\"https://colab.research.google.com/github/MaxVortman/IDEA-code-clones/blob/master/colab/code_clones_bag_of_words.ipynb\" target=\"_parent\"><img src=\"https://colab.research.google.com/assets/colab-badge.svg\" alt=\"Open In Colab\"/></a>"
      ]
    },
    {
      "cell_type": "code",
      "metadata": {
        "id": "jondNZTM-_DN",
        "colab_type": "code",
        "outputId": "5cb07106-3035-4915-9495-085639b2c16a",
        "colab": {
          "base_uri": "https://localhost:8080/",
          "height": 122
        }
      },
      "source": [
        "from google.colab import drive\n",
        "drive.mount('/content/gdrive')"
      ],
      "execution_count": 1,
      "outputs": [
        {
          "output_type": "stream",
          "text": [
            "Go to this URL in a browser: https://accounts.google.com/o/oauth2/auth?client_id=947318989803-6bn6qk8qdgf4n4g3pfee6491hc0brc4i.apps.googleusercontent.com&redirect_uri=urn%3Aietf%3Awg%3Aoauth%3A2.0%3Aoob&scope=email%20https%3A%2F%2Fwww.googleapis.com%2Fauth%2Fdocs.test%20https%3A%2F%2Fwww.googleapis.com%2Fauth%2Fdrive%20https%3A%2F%2Fwww.googleapis.com%2Fauth%2Fdrive.photos.readonly%20https%3A%2F%2Fwww.googleapis.com%2Fauth%2Fpeopleapi.readonly&response_type=code\n",
            "\n",
            "Enter your authorization code:\n",
            "··········\n",
            "Mounted at /content/gdrive\n"
          ],
          "name": "stdout"
        }
      ]
    },
    {
      "cell_type": "code",
      "metadata": {
        "id": "JoUNQ5xCAFkC",
        "colab_type": "code",
        "outputId": "8f9f1297-d912-4841-d471-11d5532b7fc3",
        "colab": {
          "base_uri": "https://localhost:8080/",
          "height": 34
        }
      },
      "source": [
        "%cd /content/gdrive/My\\ Drive/code-clones"
      ],
      "execution_count": 2,
      "outputs": [
        {
          "output_type": "stream",
          "text": [
            "/content/gdrive/My Drive/code-clones\n"
          ],
          "name": "stdout"
        }
      ]
    },
    {
      "cell_type": "code",
      "metadata": {
        "id": "XVRdvMHHATuB",
        "colab_type": "code",
        "outputId": "b0b9a84d-a098-4a4b-aa71-45a2ee31d051",
        "colab": {
          "base_uri": "https://localhost:8080/",
          "height": 51
        }
      },
      "source": [
        "!ls"
      ],
      "execution_count": 3,
      "outputs": [
        {
          "output_type": "stream",
          "text": [
            "all_tests.txt  data\tmetrics.py  __pycache__  train.txt   xmlextractor.py\n",
            "csv\t       log.txt\tmodels\t    test.txt\t v0.2.0.zip\n"
          ],
          "name": "stdout"
        }
      ]
    },
    {
      "cell_type": "code",
      "metadata": {
        "id": "y-VqHqvP-w-P",
        "colab_type": "code",
        "colab": {
          "base_uri": "https://localhost:8080/",
          "height": 71
        },
        "outputId": "99ab79f6-5722-4b21-cd69-0054c693e333"
      },
      "source": [
        "import xmlextractor\n",
        "import metrics\n",
        "import os\n",
        "import pandas as pd\n",
        "import numpy as np\n",
        "import pickle\n",
        "from sklearn.feature_extraction.text import CountVectorizer\n",
        "from sklearn.decomposition import TruncatedSVD\n",
        "from imblearn.under_sampling import RandomUnderSampler\n",
        "from sklearn.model_selection import train_test_split\n",
        "from sklearn.pipeline import Pipeline\n",
        "\n",
        "import warnings\n",
        "warnings.filterwarnings('ignore')"
      ],
      "execution_count": 4,
      "outputs": [
        {
          "output_type": "stream",
          "text": [
            "/usr/local/lib/python3.6/dist-packages/sklearn/externals/six.py:31: DeprecationWarning: The module is deprecated in version 0.21 and will be removed in version 0.23 since we've dropped support for Python 2.7. Please rely on the official version of six (https://pypi.org/project/six/).\n",
            "  \"(https://pypi.org/project/six/).\", DeprecationWarning)\n"
          ],
          "name": "stderr"
        }
      ]
    },
    {
      "cell_type": "code",
      "metadata": {
        "id": "MlvtkU5W-w-U",
        "colab_type": "code",
        "colab": {}
      },
      "source": [
        "with open('csv/duplicates.pkl', 'rb') as f:\n",
        "  duplicates = pickle.load(f)"
      ],
      "execution_count": 0,
      "outputs": []
    },
    {
      "cell_type": "code",
      "metadata": {
        "id": "PkvbxJMy-w-e",
        "colab_type": "code",
        "colab": {}
      },
      "source": [
        "dupBoW = []\n",
        "for duplicate in duplicates:\n",
        "    text = '\\n\\n'.join(duplicate.fragments)\n",
        "    dupBoW.append({'text': text, 'exp': duplicate.exp})"
      ],
      "execution_count": 0,
      "outputs": []
    },
    {
      "cell_type": "code",
      "metadata": {
        "id": "hgQiRITw-w-h",
        "colab_type": "code",
        "outputId": "cd2b41a9-5442-4951-a4a0-9df4fab2fa25",
        "colab": {
          "base_uri": "https://localhost:8080/",
          "height": 204
        }
      },
      "source": [
        "df = pd.DataFrame(dupBoW)\n",
        "df.head()"
      ],
      "execution_count": 7,
      "outputs": [
        {
          "output_type": "execute_result",
          "data": {
            "text/html": [
              "<div>\n",
              "<style scoped>\n",
              "    .dataframe tbody tr th:only-of-type {\n",
              "        vertical-align: middle;\n",
              "    }\n",
              "\n",
              "    .dataframe tbody tr th {\n",
              "        vertical-align: top;\n",
              "    }\n",
              "\n",
              "    .dataframe thead th {\n",
              "        text-align: right;\n",
              "    }\n",
              "</style>\n",
              "<table border=\"1\" class=\"dataframe\">\n",
              "  <thead>\n",
              "    <tr style=\"text-align: right;\">\n",
              "      <th></th>\n",
              "      <th>exp</th>\n",
              "      <th>text</th>\n",
              "    </tr>\n",
              "  </thead>\n",
              "  <tbody>\n",
              "    <tr>\n",
              "      <th>0</th>\n",
              "      <td>0</td>\n",
              "      <td>/**\\n * A hash map using primitive ints as key...</td>\n",
              "    </tr>\n",
              "    <tr>\n",
              "      <th>1</th>\n",
              "      <td>0</td>\n",
              "      <td>\\tprivate static ByteBuffer readImage(final Bu...</td>\n",
              "    </tr>\n",
              "    <tr>\n",
              "      <th>2</th>\n",
              "      <td>0</td>\n",
              "      <td>\\t\\tSpriteRendererTF() {\\n\\t\\t\\tSystem.out.pri...</td>\n",
              "    </tr>\n",
              "    <tr>\n",
              "      <th>3</th>\n",
              "      <td>0</td>\n",
              "      <td>\\t/**\\n\\t * Processes keyboard input\\n\\t */\\n\\...</td>\n",
              "    </tr>\n",
              "    <tr>\n",
              "      <th>4</th>\n",
              "      <td>0</td>\n",
              "      <td>if (!VertLeq(o1, d1)) {\\n            G...</td>\n",
              "    </tr>\n",
              "  </tbody>\n",
              "</table>\n",
              "</div>"
            ],
            "text/plain": [
              "   exp                                               text\n",
              "0    0  /**\\n * A hash map using primitive ints as key...\n",
              "1    0  \\tprivate static ByteBuffer readImage(final Bu...\n",
              "2    0  \\t\\tSpriteRendererTF() {\\n\\t\\t\\tSystem.out.pri...\n",
              "3    0  \\t/**\\n\\t * Processes keyboard input\\n\\t */\\n\\...\n",
              "4    0          if (!VertLeq(o1, d1)) {\\n            G..."
            ]
          },
          "metadata": {
            "tags": []
          },
          "execution_count": 7
        }
      ]
    },
    {
      "cell_type": "code",
      "metadata": {
        "id": "ippqRzIv-w-l",
        "colab_type": "code",
        "outputId": "6cd29cd6-66f9-4501-80e3-1dbf92002ac8",
        "colab": {
          "base_uri": "https://localhost:8080/",
          "height": 297
        }
      },
      "source": [
        "df.describe()"
      ],
      "execution_count": 8,
      "outputs": [
        {
          "output_type": "execute_result",
          "data": {
            "text/html": [
              "<div>\n",
              "<style scoped>\n",
              "    .dataframe tbody tr th:only-of-type {\n",
              "        vertical-align: middle;\n",
              "    }\n",
              "\n",
              "    .dataframe tbody tr th {\n",
              "        vertical-align: top;\n",
              "    }\n",
              "\n",
              "    .dataframe thead th {\n",
              "        text-align: right;\n",
              "    }\n",
              "</style>\n",
              "<table border=\"1\" class=\"dataframe\">\n",
              "  <thead>\n",
              "    <tr style=\"text-align: right;\">\n",
              "      <th></th>\n",
              "      <th>exp</th>\n",
              "    </tr>\n",
              "  </thead>\n",
              "  <tbody>\n",
              "    <tr>\n",
              "      <th>count</th>\n",
              "      <td>19990.000000</td>\n",
              "    </tr>\n",
              "    <tr>\n",
              "      <th>mean</th>\n",
              "      <td>0.271636</td>\n",
              "    </tr>\n",
              "    <tr>\n",
              "      <th>std</th>\n",
              "      <td>0.444814</td>\n",
              "    </tr>\n",
              "    <tr>\n",
              "      <th>min</th>\n",
              "      <td>0.000000</td>\n",
              "    </tr>\n",
              "    <tr>\n",
              "      <th>25%</th>\n",
              "      <td>0.000000</td>\n",
              "    </tr>\n",
              "    <tr>\n",
              "      <th>50%</th>\n",
              "      <td>0.000000</td>\n",
              "    </tr>\n",
              "    <tr>\n",
              "      <th>75%</th>\n",
              "      <td>1.000000</td>\n",
              "    </tr>\n",
              "    <tr>\n",
              "      <th>max</th>\n",
              "      <td>1.000000</td>\n",
              "    </tr>\n",
              "  </tbody>\n",
              "</table>\n",
              "</div>"
            ],
            "text/plain": [
              "                exp\n",
              "count  19990.000000\n",
              "mean       0.271636\n",
              "std        0.444814\n",
              "min        0.000000\n",
              "25%        0.000000\n",
              "50%        0.000000\n",
              "75%        1.000000\n",
              "max        1.000000"
            ]
          },
          "metadata": {
            "tags": []
          },
          "execution_count": 8
        }
      ]
    },
    {
      "cell_type": "code",
      "metadata": {
        "id": "enLCQvW6-w-p",
        "colab_type": "code",
        "colab": {}
      },
      "source": [
        "vect = CountVectorizer(ngram_range=(1,1))\n",
        "bagOfWords = vect.fit_transform(df['text'])"
      ],
      "execution_count": 0,
      "outputs": []
    },
    {
      "cell_type": "code",
      "metadata": {
        "id": "Ts-AIo-HHKb9",
        "colab_type": "code",
        "colab": {}
      },
      "source": [
        "from scipy import sparse"
      ],
      "execution_count": 0,
      "outputs": []
    },
    {
      "cell_type": "code",
      "metadata": {
        "id": "NxngZOc_eNrJ",
        "colab_type": "code",
        "colab": {}
      },
      "source": [
        "y = sparse.coo_matrix(df['exp'])"
      ],
      "execution_count": 0,
      "outputs": []
    },
    {
      "cell_type": "code",
      "metadata": {
        "id": "YMC0IS28-w-r",
        "colab_type": "code",
        "colab": {}
      },
      "source": [
        "sparse.save_npz(\"csv/bagofwords_vectors_X.npz\", bagOfWords)\n",
        "sparse.save_npz(\"csv/bagofwords_vectors_y.npz\", y)"
      ],
      "execution_count": 0,
      "outputs": []
    },
    {
      "cell_type": "code",
      "metadata": {
        "id": "60IYpIak3edP",
        "colab_type": "code",
        "colab": {}
      },
      "source": [
        "sparse_bow_X = sparse.load_npz(\"csv/bagofwords_vectors_X.npz\")\n",
        "sparse_bow_y = sparse.load_npz(\"csv/bagofwords_vectors_y.npz\").T"
      ],
      "execution_count": 0,
      "outputs": []
    },
    {
      "cell_type": "code",
      "metadata": {
        "id": "lnkoz4ol2k7r",
        "colab_type": "code",
        "outputId": "e3742600-af72-416d-fc17-1e263f35b96b",
        "colab": {
          "base_uri": "https://localhost:8080/",
          "height": 34
        }
      },
      "source": [
        "%cd / "
      ],
      "execution_count": 14,
      "outputs": [
        {
          "output_type": "stream",
          "text": [
            "/\n"
          ],
          "name": "stdout"
        }
      ]
    },
    {
      "cell_type": "code",
      "metadata": {
        "id": "gPLsc6rL3ULh",
        "colab_type": "code",
        "outputId": "6343fb67-4ed6-46aa-9556-7a283ef70c66",
        "colab": {
          "base_uri": "https://localhost:8080/",
          "height": 34
        }
      },
      "source": [
        "tsvd = TruncatedSVD(n_components=65, random_state=23, n_iter=10)\n",
        "X = tsvd.fit_transform(sparse_bow_X)\n",
        "sum(tsvd.explained_variance_ratio_)"
      ],
      "execution_count": 15,
      "outputs": [
        {
          "output_type": "execute_result",
          "data": {
            "text/plain": [
              "0.9900126162151632"
            ]
          },
          "metadata": {
            "tags": []
          },
          "execution_count": 15
        }
      ]
    },
    {
      "cell_type": "code",
      "metadata": {
        "id": "5vIo--3i3-sB",
        "colab_type": "code",
        "outputId": "32117c45-5c59-4e7f-edb3-93314de85ef4",
        "colab": {
          "base_uri": "https://localhost:8080/",
          "height": 391
        }
      },
      "source": [
        "!git clone https://github.com/hyperopt/hyperopt-sklearn\n",
        "%cd hyperopt-sklearn\n",
        "!pip install -e ."
      ],
      "execution_count": 16,
      "outputs": [
        {
          "output_type": "stream",
          "text": [
            "Cloning into 'hyperopt-sklearn'...\n",
            "remote: Enumerating objects: 1176, done.\u001b[K\n",
            "remote: Total 1176 (delta 0), reused 0 (delta 0), pack-reused 1176\u001b[K\n",
            "Receiving objects: 100% (1176/1176), 1.99 MiB | 20.60 MiB/s, done.\n",
            "Resolving deltas: 100% (715/715), done.\n",
            "/hyperopt-sklearn\n",
            "Obtaining file:///hyperopt-sklearn\n",
            "Requirement already satisfied: hyperopt in /usr/local/lib/python3.6/dist-packages (from hpsklearn==0.0.3) (0.1.2)\n",
            "Requirement already satisfied: nose in /usr/local/lib/python3.6/dist-packages (from hpsklearn==0.0.3) (1.3.7)\n",
            "Requirement already satisfied: numpy in /usr/local/lib/python3.6/dist-packages (from hpsklearn==0.0.3) (1.16.4)\n",
            "Requirement already satisfied: scikit-learn in /usr/local/lib/python3.6/dist-packages (from hpsklearn==0.0.3) (0.21.2)\n",
            "Requirement already satisfied: scipy in /usr/local/lib/python3.6/dist-packages (from hpsklearn==0.0.3) (1.3.0)\n",
            "Requirement already satisfied: pymongo in /usr/local/lib/python3.6/dist-packages (from hyperopt->hpsklearn==0.0.3) (3.8.0)\n",
            "Requirement already satisfied: networkx in /usr/local/lib/python3.6/dist-packages (from hyperopt->hpsklearn==0.0.3) (2.3)\n",
            "Requirement already satisfied: future in /usr/local/lib/python3.6/dist-packages (from hyperopt->hpsklearn==0.0.3) (0.16.0)\n",
            "Requirement already satisfied: tqdm in /usr/local/lib/python3.6/dist-packages (from hyperopt->hpsklearn==0.0.3) (4.28.1)\n",
            "Requirement already satisfied: six in /usr/local/lib/python3.6/dist-packages (from hyperopt->hpsklearn==0.0.3) (1.12.0)\n",
            "Requirement already satisfied: joblib>=0.11 in /usr/local/lib/python3.6/dist-packages (from scikit-learn->hpsklearn==0.0.3) (0.13.2)\n",
            "Requirement already satisfied: decorator>=4.3.0 in /usr/local/lib/python3.6/dist-packages (from networkx->hyperopt->hpsklearn==0.0.3) (4.4.0)\n",
            "Installing collected packages: hpsklearn\n",
            "  Running setup.py develop for hpsklearn\n",
            "Successfully installed hpsklearn\n"
          ],
          "name": "stdout"
        }
      ]
    },
    {
      "cell_type": "code",
      "metadata": {
        "id": "3zx86cd_4MDc",
        "colab_type": "code",
        "outputId": "ae0a4e6a-1365-47c3-af08-9caa4b3d0a90",
        "colab": {
          "base_uri": "https://localhost:8080/",
          "height": 51
        }
      },
      "source": [
        "from hpsklearn import HyperoptEstimator, any_sparse_classifier, any_classifier\n",
        "from hyperopt import tpe"
      ],
      "execution_count": 17,
      "outputs": [
        {
          "output_type": "stream",
          "text": [
            "WARN: OMP_NUM_THREADS=None =>\n",
            "... If you are using openblas if you are using openblas set OMP_NUM_THREADS=1 or risk subprocess calls hanging indefinitely\n"
          ],
          "name": "stdout"
        }
      ]
    },
    {
      "cell_type": "code",
      "metadata": {
        "id": "HcaCOLgl4P3L",
        "colab_type": "code",
        "colab": {}
      },
      "source": [
        "def custom_loss(y_target, y_prediction):\n",
        "  k_fn = 1\n",
        "  k_fp = 10\n",
        "  n = len(y_target)\n",
        "  (fnr, fpr) = metrics.calc_fnr_fpr(y_target, y_prediction)\n",
        "  return k_fn * fnr + k_fp * fpr"
      ],
      "execution_count": 0,
      "outputs": []
    },
    {
      "cell_type": "code",
      "metadata": {
        "id": "NVUzSc0Y40Li",
        "colab_type": "code",
        "colab": {}
      },
      "source": [
        "def resample(X, y):\n",
        "  rus = RandomUnderSampler(random_state=23)\n",
        "  return rus.fit_resample(X, y)"
      ],
      "execution_count": 0,
      "outputs": []
    },
    {
      "cell_type": "code",
      "metadata": {
        "id": "4xRgw0ur48mP",
        "colab_type": "code",
        "colab": {}
      },
      "source": [
        "X_resampled, y_resampled = resample(X, sparse_bow_y.toarray())\n",
        "X_train, X_test, y_train, y_test = train_test_split(X_resampled, y_resampled, random_state=23)"
      ],
      "execution_count": 0,
      "outputs": []
    },
    {
      "cell_type": "code",
      "metadata": {
        "id": "sWW0e7gM4R5B",
        "colab_type": "code",
        "outputId": "cae6c6f1-26d6-4a3c-bf5a-e5e50fb1e33a",
        "colab": {
          "base_uri": "https://localhost:8080/",
          "height": 187
        }
      },
      "source": [
        "estim = HyperoptEstimator(classifier=any_classifier('clf'),\n",
        "                          preprocessing=[],\n",
        "                          algo=tpe.suggest, \n",
        "                          trial_timeout=300,\n",
        "                          loss_fn=custom_loss,\n",
        "                          seed=23)\n",
        "estim.fit(X_train, y_train)"
      ],
      "execution_count": 21,
      "outputs": [
        {
          "output_type": "stream",
          "text": [
            "100%|██████████| 1/1 [00:02<00:00,  2.86s/it, best loss: 3.993247391037446]\n",
            "100%|██████████| 1/1 [00:08<00:00,  8.80s/it, best loss: 2.3327194597912833]\n",
            "100%|██████████| 1/1 [00:03<00:00,  3.56s/it, best loss: 1.9975445058317987]\n",
            "100%|██████████| 1/1 [00:14<00:00, 14.63s/it, best loss: 1.9975445058317987]\n",
            "100%|██████████| 1/1 [00:03<00:00,  3.06s/it, best loss: 1.96378146101903]\n",
            "100%|██████████| 1/1 [00:02<00:00,  2.84s/it, best loss: 1.96378146101903]\n",
            "100%|██████████| 1/1 [00:00<00:00,  3.83it/s, best loss: 1.5469613259668509]\n",
            "100%|██████████| 1/1 [00:19<00:00, 19.93s/it, best loss: 1.5469613259668509]\n",
            "100%|██████████| 1/1 [00:01<00:00,  1.04s/it, best loss: 1.09085328422345]\n",
            "100%|██████████| 1/1 [00:03<00:00,  3.74s/it, best loss: 1.09085328422345]\n"
          ],
          "name": "stdout"
        }
      ]
    },
    {
      "cell_type": "code",
      "metadata": {
        "id": "m_NIt5D94elW",
        "colab_type": "code",
        "outputId": "d0ce6c9f-97c0-478d-8440-efc74e06fe57",
        "colab": {
          "base_uri": "https://localhost:8080/",
          "height": 272
        }
      },
      "source": [
        "y_pred = estim.predict(X_test)\n",
        "metrics.print_fnr_fpr(y_test, y_pred)\n",
        "metrics.print_metrics(y_test, y_pred)"
      ],
      "execution_count": 22,
      "outputs": [
        {
          "output_type": "stream",
          "text": [
            "\n",
            "FNR: \n",
            "0.16427255985267036\n",
            "\n",
            "FPR: \n",
            "0.12670349907918968\n",
            "\n",
            "accuracy: \n",
            "0.7090239410681399\n",
            "\n",
            "precision: \n",
            "0.7314597970335676\n",
            "\n",
            "recall: \n",
            "0.6775126536514823\n"
          ],
          "name": "stdout"
        }
      ]
    },
    {
      "cell_type": "code",
      "metadata": {
        "id": "t8U3yvB45wMg",
        "colab_type": "code",
        "outputId": "fe29911e-c8d6-45a0-d869-2f0ac71597b7",
        "colab": {
          "base_uri": "https://localhost:8080/",
          "height": 221
        }
      },
      "source": [
        "estim.best_model()"
      ],
      "execution_count": 23,
      "outputs": [
        {
          "output_type": "execute_result",
          "data": {
            "text/plain": [
              "{'ex_preprocs': (),\n",
              " 'learner': GradientBoostingClassifier(criterion='friedman_mse', init=None,\n",
              "                            learning_rate=0.005891891362147046, loss='deviance',\n",
              "                            max_depth=None, max_features='log2',\n",
              "                            max_leaf_nodes=None, min_impurity_decrease=0.0,\n",
              "                            min_impurity_split=None, min_samples_leaf=8,\n",
              "                            min_samples_split=2, min_weight_fraction_leaf=0.0,\n",
              "                            n_estimators=16, n_iter_no_change=None,\n",
              "                            presort='auto', random_state=0, subsample=1.0,\n",
              "                            tol=0.0001, validation_fraction=0.1, verbose=0,\n",
              "                            warm_start=False),\n",
              " 'preprocs': ()}"
            ]
          },
          "metadata": {
            "tags": []
          },
          "execution_count": 23
        }
      ]
    },
    {
      "cell_type": "code",
      "metadata": {
        "id": "6UZ2XBQX5yZh",
        "colab_type": "code",
        "colab": {}
      },
      "source": [
        "thr = 0.5\n",
        "y_prob = [y[1] for y in estim.best_model()['learner'].predict_proba(X_test)]\n",
        "y_pred = [int(y >= thr) for y in y_prob]\n",
        "_, fpr = metrics.calc_fnr_fpr(y_test, y_pred)\n",
        "while fpr - 0.10 >= 0.005:\n",
        "  thr += 0.0005\n",
        "  y_pred = [int(y >= thr) for y in y_prob]\n",
        "  _, fpr = metrics.calc_fnr_fpr(y_test, y_pred)"
      ],
      "execution_count": 0,
      "outputs": []
    },
    {
      "cell_type": "code",
      "metadata": {
        "id": "CapVzq375z8m",
        "colab_type": "code",
        "outputId": "70322cc9-d2d0-46ab-a682-69860fe8a454",
        "colab": {
          "base_uri": "https://localhost:8080/",
          "height": 34
        }
      },
      "source": [
        "thr"
      ],
      "execution_count": 25,
      "outputs": [
        {
          "output_type": "execute_result",
          "data": {
            "text/plain": [
              "0.5034999999999996"
            ]
          },
          "metadata": {
            "tags": []
          },
          "execution_count": 25
        }
      ]
    },
    {
      "cell_type": "code",
      "metadata": {
        "id": "p8TgikDq53FI",
        "colab_type": "code",
        "outputId": "61c1112f-656e-44e0-a707-cbc6f69b9a84",
        "colab": {
          "base_uri": "https://localhost:8080/",
          "height": 323
        }
      },
      "source": [
        "metrics.print_roc_auc(y_test, y_prob)\n",
        "metrics.print_fnr_fpr(y_test, y_pred)\n",
        "metrics.print_metrics(y_test, y_pred)"
      ],
      "execution_count": 26,
      "outputs": [
        {
          "output_type": "stream",
          "text": [
            "\n",
            "roc auc: \n",
            "0.8071824536032778\n",
            "\n",
            "FNR: \n",
            "0.20405156537753222\n",
            "\n",
            "FPR: \n",
            "0.10128913443830571\n",
            "\n",
            "accuracy: \n",
            "0.6946593001841621\n",
            "\n",
            "precision: \n",
            "0.7509057971014492\n",
            "\n",
            "recall: \n",
            "0.5994215473608099\n"
          ],
          "name": "stdout"
        }
      ]
    },
    {
      "cell_type": "code",
      "metadata": {
        "id": "DC5FRe8c55pw",
        "colab_type": "code",
        "colab": {}
      },
      "source": [
        "pipe = Pipeline([('tsvd', tsvd), ('clf', estim.best_model()['learner'])])"
      ],
      "execution_count": 0,
      "outputs": []
    },
    {
      "cell_type": "code",
      "metadata": {
        "id": "ycOfq6Gy-BCb",
        "colab_type": "code",
        "outputId": "991d81ef-f8a2-4874-c717-9ec6ad01808d",
        "colab": {
          "base_uri": "https://localhost:8080/",
          "height": 34
        }
      },
      "source": [
        "%cd /content/gdrive/My\\ Drive/code-clones\n",
        "with open('models/tsvd_bow.model', 'wb') as f:\n",
        "  pickle.dump(pipe, f)"
      ],
      "execution_count": 28,
      "outputs": [
        {
          "output_type": "stream",
          "text": [
            "/content/gdrive/My Drive/code-clones\n"
          ],
          "name": "stdout"
        }
      ]
    },
    {
      "cell_type": "code",
      "metadata": {
        "id": "aV6pKLGv-nJY",
        "colab_type": "code",
        "colab": {}
      },
      "source": [
        ""
      ],
      "execution_count": 0,
      "outputs": []
    }
  ]
}