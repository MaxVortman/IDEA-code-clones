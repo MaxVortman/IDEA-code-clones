{
  "nbformat": 4,
  "nbformat_minor": 0,
  "metadata": {
    "colab": {
      "name": "code-clones-fastText.ipynb",
      "version": "0.3.2",
      "provenance": [],
      "collapsed_sections": [],
      "include_colab_link": true
    },
    "kernelspec": {
      "name": "python3",
      "display_name": "Python 3"
    }
  },
  "cells": [
    {
      "cell_type": "markdown",
      "metadata": {
        "id": "view-in-github",
        "colab_type": "text"
      },
      "source": [
        "<a href=\"https://colab.research.google.com/github/MaxVortman/IDEA-code-clones/blob/master/colab/code_clones_fastText.ipynb\" target=\"_parent\"><img src=\"https://colab.research.google.com/assets/colab-badge.svg\" alt=\"Open In Colab\"/></a>"
      ]
    },
    {
      "cell_type": "code",
      "metadata": {
        "id": "fppIjeLd3nEF",
        "colab_type": "code",
        "outputId": "74b366f5-7e25-4594-f9f3-0075861c1968",
        "colab": {
          "base_uri": "https://localhost:8080/",
          "height": 34
        }
      },
      "source": [
        "from google.colab import drive\n",
        "drive.mount('/content/gdrive')"
      ],
      "execution_count": 1,
      "outputs": [
        {
          "output_type": "stream",
          "text": [
            "Drive already mounted at /content/gdrive; to attempt to forcibly remount, call drive.mount(\"/content/gdrive\", force_remount=True).\n"
          ],
          "name": "stdout"
        }
      ]
    },
    {
      "cell_type": "code",
      "metadata": {
        "id": "HBv8S6vk3pp0",
        "colab_type": "code",
        "outputId": "247ccac0-1430-41b6-ce99-6e9c14991b7d",
        "colab": {
          "base_uri": "https://localhost:8080/",
          "height": 204
        }
      },
      "source": [
        "!git clone https://github.com/facebookresearch/fastText.git\n",
        "%cd fastText\n",
        "!pip install .\n",
        "%cd .."
      ],
      "execution_count": 2,
      "outputs": [
        {
          "output_type": "stream",
          "text": [
            "Processing /content/fastText\n",
            "Requirement already satisfied: pybind11>=2.2 in /usr/local/lib/python3.6/dist-packages (from fasttext==0.9) (2.3.0)\n",
            "Requirement already satisfied: setuptools>=0.7.0 in /usr/local/lib/python3.6/dist-packages (from fasttext==0.9) (41.0.1)\n",
            "Requirement already satisfied: numpy in /usr/local/lib/python3.6/dist-packages (from fasttext==0.9) (1.16.4)\n",
            "Building wheels for collected packages: fasttext\n",
            "  Building wheel for fasttext (setup.py) ... \u001b[?25l\u001b[?25hdone\n",
            "  Stored in directory: /tmp/pip-ephem-wheel-cache-p9pi326k/wheels/a1/9f/52/696ce6c5c46325e840c76614ee5051458c0df10306987e7443\n",
            "Successfully built fasttext\n",
            "Installing collected packages: fasttext\n",
            "Successfully installed fasttext-0.9\n",
            "/content\n"
          ],
          "name": "stdout"
        }
      ]
    },
    {
      "cell_type": "code",
      "metadata": {
        "id": "-i-OjXMp-D0J",
        "colab_type": "code",
        "colab": {}
      },
      "source": [
        "import fastText"
      ],
      "execution_count": 0,
      "outputs": []
    },
    {
      "cell_type": "code",
      "metadata": {
        "id": "sAXyaW7xbQVz",
        "colab_type": "code",
        "outputId": "95c37a29-5118-4c3b-9199-c97b910df1e3",
        "colab": {
          "base_uri": "https://localhost:8080/",
          "height": 34
        }
      },
      "source": [
        "%cd /content/gdrive/My\\ Drive/code-clones"
      ],
      "execution_count": 4,
      "outputs": [
        {
          "output_type": "stream",
          "text": [
            "/content/gdrive/My Drive/code-clones\n"
          ],
          "name": "stdout"
        }
      ]
    },
    {
      "cell_type": "code",
      "metadata": {
        "id": "wJJ0_bYWbSJh",
        "colab_type": "code",
        "colab": {}
      },
      "source": [
        "import xmlextractor\n",
        "import metrics\n",
        "import pandas as pd\n",
        "import numpy as np\n",
        "import pickle"
      ],
      "execution_count": 0,
      "outputs": []
    },
    {
      "cell_type": "code",
      "metadata": {
        "id": "55uukcyDbClq",
        "colab_type": "code",
        "colab": {}
      },
      "source": [
        "with open('csv/duplicates.pkl', 'rb') as f:\n",
        "  duplicates = pickle.load(f)"
      ],
      "execution_count": 0,
      "outputs": []
    },
    {
      "cell_type": "code",
      "metadata": {
        "id": "-2kNqIMtiEPo",
        "colab_type": "code",
        "colab": {}
      },
      "source": [
        "import re\n",
        "\n",
        "all_fragment_duplicates = []\n",
        "for duplicate in duplicates:\n",
        "    text = ''.join(duplicate.fragments)\n",
        "    text = text.replace('\\n', ' ').replace('\\r', '').replace('\\t', ' ')\n",
        "    text = re.sub(\" +\", \" \", text)\n",
        "    all_fragment_duplicates.append({'text': text, 'exp': duplicate.exp})"
      ],
      "execution_count": 0,
      "outputs": []
    },
    {
      "cell_type": "code",
      "metadata": {
        "id": "iEQu4LTh7lPU",
        "colab_type": "code",
        "outputId": "4c72566d-49e9-486c-e0f4-02452f1f7703",
        "colab": {
          "base_uri": "https://localhost:8080/",
          "height": 54
        }
      },
      "source": [
        "all_fragment_duplicates[0]['text']"
      ],
      "execution_count": 10,
      "outputs": [
        {
          "output_type": "execute_result",
          "data": {
            "text/plain": [
              "'/** * A hash map using primitive ints as keys rather than objects. * * @author Justin Couch * @author Alex Chaffee (alex@apache.org) * @author Stephen Colebourne * @author Nathan Sweet */ final class FastIntMap<V> implements Iterable<FastIntMap.Entry<V>> { private Entry[] table; private int size, mask, capacity, threshold; /** Same as: FastIntMap(16, 0.75f); */ FastIntMap() { this(16, 0.75f); } /** Same as: FastIntMap(initialCapacity, 0.75f); */ FastIntMap(int initialCapacity) { this(initialCapacity, 0.75f); } FastIntMap(int initialCapacity, float loadFactor) { if ( initialCapacity > 1 << 30 ) throw new IllegalArgumentException(\"initialCapacity is too large.\"); if ( initialCapacity < 0 ) throw new IllegalArgumentException(\"initialCapacity must be greater than zero.\"); if ( loadFactor <= 0 ) throw new IllegalArgumentException(\"initialCapacity must be greater than zero.\"); capacity = 1; while ( capacity < initialCapacity ) capacity <<= 1; this.threshold = (int)(capacity * loadFactor); this.table = new Entry[capacity]; this.mask = capacity - 1; } private int index(final int key) { return index(key, mask); } private static int index(final int key, final int mask) { return key & mask; } public V put(int key, V value) { final Entry<V>[] table = this.table; int index = index(key); // Check if key already exists. for ( Entry<V> e = table[index]; e != null; e = e.next ) { if ( e.key != key ) continue; V oldValue = e.value; e.value = value; return oldValue; } table[index] = new Entry<V>(key, value, table[index]); if ( size++ >= threshold ) rehash(table); return null; } private void rehash(final Entry<V>[] table) { final int newCapacity = 2 * capacity; final int newMask = newCapacity - 1; final Entry<V>[] newTable = new Entry[newCapacity]; for ( int i = 0, index; i < table.length; i++ ) { Entry<V> e = table[i]; if ( e == null ) continue; do { final Entry<V> next = e.next; index = index(e.key, newMask); e.next = newTable[index]; newTable[index] = e; e = next; } while ( e != null ); } this.table = newTable; capacity = newCapacity; mask = newMask; threshold *= 2; } public V get(int key) { final int index = index(key); for ( Entry<V> e = table[index]; e != null; e = e.next ) if ( e.key == key ) return e.value; return null; } public boolean containsValue(Object value) { final Entry<V>[] table = this.table; for ( int i = table.length - 1; i >= 0; i-- ) for ( Entry<V> e = table[i]; e != null; e = e.next ) if ( e.value.equals(value) ) return true; return false; } public boolean containsKey(int key) { final int index = index(key); for ( Entry<V> e = table[index]; e != null; e = e.next ) if ( e.key == key ) return true; return false; } public V remove(int key) { final int index = index(key); Entry<V> prev = table[index]; Entry<V> e = prev; while ( e != null ) { Entry<V> next = e.next; if ( e.key == key ) { size--; if ( prev == e ) table[index] = next; else prev.next = next; return e.value; } prev = e; e = next; } return null; } public int size() { return size; } public boolean isEmpty() { return size == 0; } public void clear() { final Entry<V>[] table = this.table; for ( int index = table.length - 1; index >= 0; index-- ) table[index] = null; size = 0; } public EntryIterator iterator() { return new EntryIterator(); } public class EntryIterator implements Iterator<Entry<V>> { private int nextIndex; private Entry<V> current; EntryIterator() { reset(); } public void reset() { current = null; // Find first bucket. final Entry<V>[] table = FastIntMap.this.table; int i; for ( i = table.length - 1; i >= 0; i-- ) if ( table[i] != null ) break; nextIndex = i; } public boolean hasNext() { if ( nextIndex >= 0 ) return true; Entry e = current; return e != null && e.next != null; } public Entry<V> next() { // Next entry in current bucket. Entry<V> e = current; if ( e != null ) { e = e.next; if ( e != null ) { current = e; return e; } } // Use the bucket at nextIndex and find the next nextIndex. final Entry<V>[] table = FastIntMap.this.table; int i = nextIndex; e = current = table[i]; while ( --i >= 0 ) if ( table[i] != null ) break; nextIndex = i; return e; } public void remove() { FastIntMap.this.remove(current.key); } } static final class Entry<T> { final int key; T value; Entry<T> next; Entry(int key, T value, Entry<T> next) { this.key = key; this.value = value; this.next = next; } public int getKey() { return key; } public T getValue() { return value; } } }/** * A hash map using primitive ints as keys rather than objects. * * @author Justin Couch * @author Alex Chaffee (alex@apache.org) * @author Stephen Colebourne * @author Nathan Sweet */ final class FastIntMap<V> implements Iterable<FastIntMap.Entry<V>> { private Entry[] table; private int size, mask, capacity, threshold; /** Same as: FastIntMap(16, 0.75f); */ FastIntMap() { this(16, 0.75f); } /** Same as: FastIntMap(initialCapacity, 0.75f); */ FastIntMap(int initialCapacity) { this(initialCapacity, 0.75f); } FastIntMap(int initialCapacity, float loadFactor) { if ( initialCapacity > 1 << 30 ) throw new IllegalArgumentException(\"initialCapacity is too large.\"); if ( initialCapacity < 0 ) throw new IllegalArgumentException(\"initialCapacity must be greater than zero.\"); if ( loadFactor <= 0 ) throw new IllegalArgumentException(\"initialCapacity must be greater than zero.\"); capacity = 1; while ( capacity < initialCapacity ) capacity <<= 1; this.threshold = (int)(capacity * loadFactor); this.table = new Entry[capacity]; this.mask = capacity - 1; } private int index(final int key) { return index(key, mask); } private static int index(final int key, final int mask) { return key & mask; } public V put(int key, V value) { final Entry<V>[] table = this.table; int index = index(key); // Check if key already exists. for ( Entry<V> e = table[index]; e != null; e = e.next ) { if ( e.key != key ) continue; V oldValue = e.value; e.value = value; return oldValue; } table[index] = new Entry<V>(key, value, table[index]); if ( size++ >= threshold ) rehash(table); return null; } private void rehash(final Entry<V>[] table) { final int newCapacity = 2 * capacity; final int newMask = newCapacity - 1; final Entry<V>[] newTable = new Entry[newCapacity]; for ( int i = 0, index; i < table.length; i++ ) { Entry<V> e = table[i]; if ( e == null ) continue; do { final Entry<V> next = e.next; index = index(e.key, newMask); e.next = newTable[index]; newTable[index] = e; e = next; } while ( e != null ); } this.table = newTable; capacity = newCapacity; mask = newMask; threshold *= 2; } public V get(int key) { final int index = index(key); for ( Entry<V> e = table[index]; e != null; e = e.next ) if ( e.key == key ) return e.value; return null; } public boolean containsValue(Object value) { final Entry<V>[] table = this.table; for ( int i = table.length - 1; i >= 0; i-- ) for ( Entry<V> e = table[i]; e != null; e = e.next ) if ( e.value.equals(value) ) return true; return false; } public boolean containsKey(int key) { final int index = index(key); for ( Entry<V> e = table[index]; e != null; e = e.next ) if ( e.key == key ) return true; return false; } public V remove(int key) { final int index = index(key); Entry<V> prev = table[index]; Entry<V> e = prev; while ( e != null ) { Entry<V> next = e.next; if ( e.key == key ) { size--; if ( prev == e ) table[index] = next; else prev.next = next; return e.value; } prev = e; e = next; } return null; } public int size() { return size; } public boolean isEmpty() { return size == 0; } public void clear() { final Entry<V>[] table = this.table; for ( int index = table.length - 1; index >= 0; index-- ) table[index] = null; size = 0; } public EntryIterator iterator() { return new EntryIterator(); } public class EntryIterator implements Iterator<Entry<V>> { private int nextIndex; private Entry<V> current; EntryIterator() { reset(); } public void reset() { current = null; // Find first bucket. final Entry<V>[] table = FastIntMap.this.table; int i; for ( i = table.length - 1; i >= 0; i-- ) if ( table[i] != null ) break; nextIndex = i; } public boolean hasNext() { if ( nextIndex >= 0 ) return true; Entry e = current; return e != null && e.next != null; } public Entry<V> next() { // Next entry in current bucket. Entry<V> e = current; if ( e != null ) { e = e.next; if ( e != null ) { current = e; return e; } } // Use the bucket at nextIndex and find the next nextIndex. final Entry<V>[] table = FastIntMap.this.table; int i = nextIndex; e = current = table[i]; while ( --i >= 0 ) if ( table[i] != null ) break; nextIndex = i; return e; } public void remove() { FastIntMap.this.remove(current.key); } } static final class Entry<T> { final int key; T value; Entry<T> next; Entry(int key, T value, Entry<T> next) { this.key = key; this.value = value; this.next = next; } public int getKey() { return key; } public T getValue() { return value; } } }'"
            ]
          },
          "metadata": {
            "tags": []
          },
          "execution_count": 10
        }
      ]
    },
    {
      "cell_type": "code",
      "metadata": {
        "id": "z9sS9oozo910",
        "colab_type": "code",
        "colab": {
          "base_uri": "https://localhost:8080/",
          "height": 71
        },
        "outputId": "aaac39e4-17a9-4f39-db7f-c06f1a26f527"
      },
      "source": [
        "from imblearn.under_sampling import RandomUnderSampler\n",
        "from sklearn.model_selection import train_test_split\n",
        "\n",
        "def resample(X, y):\n",
        "  rus = RandomUnderSampler(random_state=23)\n",
        "  return rus.fit_resample(X, y)"
      ],
      "execution_count": 11,
      "outputs": [
        {
          "output_type": "stream",
          "text": [
            "/usr/local/lib/python3.6/dist-packages/sklearn/externals/six.py:31: DeprecationWarning: The module is deprecated in version 0.21 and will be removed in version 0.23 since we've dropped support for Python 2.7. Please rely on the official version of six (https://pypi.org/project/six/).\n",
            "  \"(https://pypi.org/project/six/).\", DeprecationWarning)\n"
          ],
          "name": "stderr"
        }
      ]
    },
    {
      "cell_type": "code",
      "metadata": {
        "id": "lyI5hTIgpEi1",
        "colab_type": "code",
        "colab": {}
      },
      "source": [
        "df = pd.DataFrame(all_fragment_duplicates)\n",
        "X = np.array(df['text'])\n",
        "y = np.array(df['exp'])\n",
        "X_resampled, y_resampled = resample(X.reshape(-1, 1), y.reshape(-1, 1))\n",
        "X_resampled = X_resampled.reshape(1, -1)[0]\n",
        "y_resampled = y_resampled.reshape(1, -1)[0]"
      ],
      "execution_count": 0,
      "outputs": []
    },
    {
      "cell_type": "code",
      "metadata": {
        "id": "5iOnzYzTpWOV",
        "colab_type": "code",
        "colab": {}
      },
      "source": [
        "X_train, X_test, y_train, y_test = train_test_split(X_resampled, y_resampled, random_state=23)"
      ],
      "execution_count": 0,
      "outputs": []
    },
    {
      "cell_type": "code",
      "metadata": {
        "id": "0P2n0iusqFfI",
        "colab_type": "code",
        "colab": {}
      },
      "source": [
        "train_text = '\\n\\r'.join(['__label__{0} {1}'.format(y_train[i], X_train[i].strip()) for i in range(len(X_train))])"
      ],
      "execution_count": 0,
      "outputs": []
    },
    {
      "cell_type": "code",
      "metadata": {
        "id": "_cPYsFIYpPto",
        "colab_type": "code",
        "colab": {}
      },
      "source": [
        "input_file_name = 'train.txt'"
      ],
      "execution_count": 0,
      "outputs": []
    },
    {
      "cell_type": "code",
      "metadata": {
        "id": "muKpALXfkw1w",
        "colab_type": "code",
        "colab": {}
      },
      "source": [
        "with open(input_file_name, 'w') as f:\n",
        "  f.write(train_text)"
      ],
      "execution_count": 0,
      "outputs": []
    },
    {
      "cell_type": "code",
      "metadata": {
        "id": "ST4vdgwK8UmZ",
        "colab_type": "code",
        "outputId": "54f0fc04-bd84-4073-855d-15da51f2c43c",
        "colab": {
          "base_uri": "https://localhost:8080/",
          "height": 207
        }
      },
      "source": [
        "!head train.txt"
      ],
      "execution_count": 17,
      "outputs": [
        {
          "output_type": "stream",
          "text": [
            "__label__0 runs.put(3, previousPreviousBuild); TestBuild previousBuild = new TestBuild(project, Result.SUCCESS, 15, previousPreviousBuild); runs.put(2, previousBuild); TestBuild lastBuild = new TestBuild(project, Result.SUCCESS, 42, previousBuild); runs.put(1, lastBuild); runs.put(6, prev5Build); TestBuild prev4Build = new TestBuild(project, Result.SUCCESS, 1, prev5Build); runs.put(5, prev4Build); TestBuild prev3Build = new TestBuild(project, Result.SUCCESS, 1, prev4Build); runs.put(4, prev3Build);\n",
            "\r__label__0 protected BufferObject(final int type, final int usage, final Buffer buffer) { this(type, usage); setData(buffer); } protected BufferObject(final int type, final int usage, final int dataSize) { this(type, usage); setData(dataSize); }\n",
            "\r__label__1 assertEquals(\"Invalid content-length\", outputMessage.getBodyAsBytes().length, outputMessage.getHeaders().getContentLength()); assertEquals(\"Invalid content-length\", outputMessage.getBodyAsBytes().length, outputMessage.getHeaders().getContentLength());\n",
            "\r__label__1 just1.delay(null, new Function<Integer, Observable<Integer>>() { @Override public Observable<Integer> apply(Integer v) { return just1; } }) just1.delay(null, new Function<Integer, Observable<Integer>>() { @Override public Observable<Integer> apply(Integer v) { return just1; } })\n",
            "\r__label__0 builder1.filters(filters -> assertEquals(1, filters.size())); builder1.defaultHeaders(headers -> assertEquals(1, headers.size())); builder1.defaultCookies(cookies -> assertEquals(1, cookies.size())); WebClient.Builder builder2 = client2.mutate(); builder2.filters(filters -> assertEquals(2, filters.size())); builder2.defaultHeaders(headers -> assertEquals(2, headers.size())); builder2.defaultCookies(cookies -> assertEquals(2, cookies.size())); WebClient.Builder builder1a = client1a.mutate();\n",
            "\r__label__1 assertEquals(4, list.size()); assertEquals(\"OnNext_1-OnNext_a\", list.get(0)); assertEquals(\"OnNext_2-OnNext_b\", list.get(1)); assertEquals(\"OnNext_3-OnNext_c\", list.get(2)); assertEquals(\"OnComplete_null-OnComplete_null\", list.get(3)); assertEquals(4, list.size()); assertEquals(\"OnNext_1-OnNext_a\", list.get(0)); assertEquals(\"OnNext_2-OnNext_b\", list.get(1)); assertEquals(\"OnNext_3-OnNext_c\", list.get(2)); assertEquals(\"OnComplete_null-OnComplete_null\", list.get(3));\n",
            "\r__label__0 LocaleContextHolder.setLocale(Locale.GERMAN); assertEquals(Locale.GERMAN, LocaleContextHolder.getLocale()); assertEquals(TimeZone.getDefault(), LocaleContextHolder.getTimeZone()); assertFalse(LocaleContextHolder.getLocaleContext() instanceof TimeZoneAwareLocaleContext); assertEquals(Locale.GERMAN, LocaleContextHolder.getLocaleContext().getLocale()); LocaleContextHolder.setLocale(Locale.GERMANY); assertEquals(Locale.GERMANY, LocaleContextHolder.getLocale()); assertEquals(TimeZone.getDefault(), LocaleContextHolder.getTimeZone()); assertFalse(LocaleContextHolder.getLocaleContext() instanceof TimeZoneAwareLocaleContext); assertEquals(Locale.GERMANY, LocaleContextHolder.getLocaleContext().getLocale());\n",
            "\r__label__0 @Test public void convertMessageConversionExceptionOnSend() throws JMSException { Message<String> message = createTextMessage(); MessageConverter messageConverter = mock(MessageConverter.class); willThrow(org.springframework.jms.support.converter.MessageConversionException.class) .given(messageConverter).toMessage(eq(message), any()); this.messagingTemplate.setJmsMessageConverter(messageConverter); invokeMessageCreator(); this.thrown.expect(org.springframework.messaging.converter.MessageConversionException.class); this.messagingTemplate.send(\"myQueue\", message); } @Test public void convertMessageFormatException() throws JMSException { Message<String> message = createTextMessage(); MessageConverter messageConverter = mock(MessageConverter.class); willThrow(MessageFormatException.class).given(messageConverter).toMessage(eq(message), any()); this.messagingTemplate.setJmsMessageConverter(messageConverter); invokeMessageCreator(); this.thrown.expect(org.springframework.messaging.converter.MessageConversionException.class); this.messagingTemplate.send(\"myQueue\", message); } @Test public void convertMessageNotWritableException() throws JMSException { Message<String> message = createTextMessage(); MessageConverter messageConverter = mock(MessageConverter.class); willThrow(MessageNotWriteableException.class).given(messageConverter).toMessage(eq(message), any()); this.messagingTemplate.setJmsMessageConverter(messageConverter); invokeMessageCreator(); this.thrown.expect(org.springframework.messaging.converter.MessageConversionException.class); this.messagingTemplate.send(\"myQueue\", message); }\n",
            "\r__label__0 @SuppressWarnings(\"rawtypes\") static String value(Notification notification) { if (notification.isOnNext()) { return String.valueOf(notification.getValue()); } return \"null\"; } @SuppressWarnings(\"rawtypes\") static String value(Notification notification) { if (notification.isOnNext()) { return String.valueOf(notification.getValue()); } return \"null\"; }\n",
            "\r__label__0 @Test public void fused() { TestSubscriber<Integer> ts = SubscriberFusion.newTest(QueueFuseable.ANY); Maybe.just(1).flattenAsFlowable(new Function<Integer, Iterable<Integer>>() { @Override public Iterable<Integer> apply(Integer v) throws Exception { return Arrays.asList(v, v + 1); } }) .subscribe(ts); ts.assertOf(SubscriberFusion.<Integer>assertFuseable()) .assertOf(SubscriberFusion.<Integer>assertFusionMode(QueueFuseable.ASYNC)) .assertResult(1, 2); ; } @Test public void fusedNoSync() { TestSubscriber<Integer> ts = SubscriberFusion.newTest(QueueFuseable.SYNC); Maybe.just(1).flattenAsFlowable(new Function<Integer, Iterable<Integer>>() { @Override public Iterable<Integer> apply(Integer v) throws Exception { return Arrays.asList(v, v + 1); } }) .subscribe(ts); ts.assertOf(SubscriberFusion.<Integer>assertFuseable()) .assertOf(SubscriberFusion.<Integer>assertFusionMode(QueueFuseable.NONE)) .assertResult(1, 2); ; }\n"
          ],
          "name": "stdout"
        }
      ]
    },
    {
      "cell_type": "code",
      "metadata": {
        "id": "XK-LLStem5PZ",
        "colab_type": "code",
        "colab": {}
      },
      "source": [
        "all_test_file_name = 'all_tests.txt'"
      ],
      "execution_count": 0,
      "outputs": []
    },
    {
      "cell_type": "code",
      "metadata": {
        "id": "I9pAS8-ufEHi",
        "colab_type": "code",
        "colab": {}
      },
      "source": [
        "test_text = '\\n\\r'.join(['__label__{0} {1}'.format(y_test[i], X_test[i].strip()) for i in range(len(X_test))])\n",
        "with open(all_test_file_name, 'w') as f:\n",
        "  f.write(test_text)"
      ],
      "execution_count": 0,
      "outputs": []
    },
    {
      "cell_type": "code",
      "metadata": {
        "id": "JENerre11C43",
        "colab_type": "code",
        "outputId": "40a57151-a51d-4326-ed10-11848f03a37d",
        "colab": {
          "base_uri": "https://localhost:8080/",
          "height": 207
        }
      },
      "source": [
        "!head all_tests.txt"
      ],
      "execution_count": 20,
      "outputs": [
        {
          "output_type": "stream",
          "text": [
            "__label__1 ByteBuffer buf = new ByteBuffer(); buf.write((\"hello\" + ConsoleNote.PREAMBLE_STR + \"AAAAwR+LCAAAAAAAAP9dzLEOwVAUxvHThtiNprYxsGiMQhiwNSIhMR/tSZXr3Lr3oJPwPt7FM5hM3gFh8i3/5Bt+1yeUrYH6ap9Yza1Ys9WKWuMiR05wqWhEgpmyEy306Jxvwb19ccGNoBJjLplmgWq0xgOGCjkNZ2IyTrsRlFayVTs4gVMYqP3pw28/JnznuABF/rYWyIyeJfLQe1vxZiDQ7NnYZLn0UZGRRjA9MiV+0OyFv3+utadQyH8B+aJxVM4AAAA=\" + ConsoleNote.POSTAMBLE_STR + \"there\\n\").getBytes()); AnnotatedLargeText<Void> text = new AnnotatedLargeText<>(buf, Charsets.UTF_8, true, null); ByteArrayOutputStream baos = new ByteArrayOutputStream(); text.writeLogTo(0, baos); assertEquals(\"hellothere\\n\", baos.toString()); StringWriter w = new StringWriter(); text.writeHtmlTo(0, w); assertEquals(\"hellothere\\n\", w.toString()); assertThat(logging.getMessages(), hasItem(\"Failed to resurrect annotation\")); // TODO assert that this is IOException: Refusing to deserialize unsigned note from an old log. ByteBuffer buf = new ByteBuffer(); buf.write((\"Go back to \" + ConsoleNote.PREAMBLE_STR + \"////4ByIhqPpAc43AbrEtyDUDc1/UEOXsoY6LeoHSeSlb1d7AAAAlR+LCAAAAAAAAP9b85aBtbiIQS+jNKU4P08vOT+vOD8nVc8xLy+/JLEkNcUnsSg9NSS1oiQktbhEBUT45ZekCpys9xWo8J3KxMDkycCWk5qXXpLhw8BcWpRTwiDkk5VYlqifk5iXrh9cUpSZl25dUcQghWaBM4QGGcYAAYxMDAwVBUAGZwkDq35Rfn4JABmN28qcAAAA\" + ConsoleNote.POSTAMBLE_STR + \"your home.\\n\").getBytes()); AnnotatedLargeText<Void> text = new AnnotatedLargeText<>(buf, Charsets.UTF_8, true, null); ByteArrayOutputStream baos = new ByteArrayOutputStream(); text.writeLogTo(0, baos); assertEquals(\"Go back to your home.\\n\", baos.toString()); StringWriter w = new StringWriter(); text.writeHtmlTo(0, w); assertEquals(\"Go back to your home.\\n\", w.toString()); assertThat(logging.getMessages(), hasItem(\"Failed to resurrect annotation\")); // TODO assert that this is IOException: MAC mismatch\n",
            "\r__label__0 if ( !LWJGLUtil.CHECKS ) return 0; final long x = offset.get(0); final long y = offset.get(1); final long z = offset.get(2); if ( LWJGLUtil.DEBUG && (x < 0 || y < 0 || z < 0) ) throw new IllegalArgumentException(\"Invalid cl_mem host offset: \" + x + \", \" + y + \", \" + z); if ( !LWJGLUtil.CHECKS ) return 0; final long w = region.get(0); final long h = region.get(1); final long d = region.get(2); if ( LWJGLUtil.DEBUG && (w < 1 || h < 1 || d < 1) ) throw new IllegalArgumentException(\"Invalid cl_mem image region dimensions: \" + w + \" x \" + h + \" x \" + d);\n",
            "\r__label__1 if (logger.isDebugEnabled()) { logger.debug(\"Sending created message: \" + message); } doSend(producer, message); if (logger.isDebugEnabled()) { logger.debug(\"Sending created message: \" + requestMessage); } doSend(producer, requestMessage);\n",
            "\r__label__1 rv.setStatusCode(HttpStatus.MOVED_PERMANENTLY); rv.render(new HashMap<>(), request, response); assertEquals(301, response.getStatus()); assertEquals(\"http://url.somewhere.com\", response.getHeader(\"Location\")); rv.setStatusCode(HttpStatus.MOVED_PERMANENTLY); rv.render(new HashMap<>(), request, response); assertEquals(301, response.getStatus()); assertEquals(\"http://url.somewhere.com\", response.getHeader(\"Location\"));\n",
            "\r__label__0 MediaType accepted = MediaType.APPLICATION_ATOM_XML; servletRequest.addHeader(\"Accept\", accepted.toString()); MediaType accepted = MediaType.APPLICATION_ATOM_XML; servletRequest.addHeader(\"Accept\", accepted.toString());\n",
            "\r__label__1 if (CHECKS) { check(__functionAddress); } callPV(program, location, value.length >> 4, transpose, value, __functionAddress); if (CHECKS) { check(__functionAddress); } callPV(program, location, value.length >> 4, transpose, value, __functionAddress);\n",
            "\r__label__0 StaticWebApplicationContext ctx = new StaticWebApplicationContext(); ctx.registerSingleton(\"controller\", ExceptionThrowingController.class); ctx.registerSingleton(\"exceptionHandler\", ApplicationExceptionHandler.class); ctx.refresh(); DispatcherServlet servlet = new DispatcherServlet(ctx); servlet.init(new MockServletConfig()); StaticWebApplicationContext ctx = new StaticWebApplicationContext(); ctx.registerSingleton(\"controller\", NestedExceptionThrowingController.class); ctx.registerSingleton(\"exceptionHandler\", ApplicationExceptionHandler.class); ctx.refresh(); DispatcherServlet servlet = new DispatcherServlet(ctx); servlet.init(new MockServletConfig());\n",
            "\r__label__0 MockServerWebExchange exchange = MockServerWebExchange.from(MockServerHttpRequest.get(\"/path?name=foo\")); assertEquals(\"foo\", resolve(param, exchange)); MockServerWebExchange exchange = MockServerWebExchange.from(MockServerHttpRequest.get(\"/path?name=\")); assertEquals(\"\", resolve(param, exchange));\n",
            "\r__label__0 @Test(expected = RuntimeException.class) @Ignore(\"Subscribers can't throw\") public void testPluginExceptionWhileOnErrorThrowsNotImplAndUnsubscribeThrows() { RxJavaPlugins.setErrorHandler(new Consumer<Throwable>() { int calls; @Override public void accept(Throwable e) { if (++calls == 2) { throw new RuntimeException(); } } }); TestSubscriber<Integer> ts = new TestSubscriber<Integer>() { @Override public void onError(Throwable e) { throw new RuntimeException(e); } }; SafeSubscriber<Integer> safe = new SafeSubscriber<Integer>(ts); safe.onSubscribe(new SubscriptionCancelThrows()); safe.onError(new TestException()); } @Test(expected = RuntimeException.class) @Ignore(\"Subscribers can't throw\") public void testPluginExceptionWhileOnErrorThrowsAndUnsubscribeThrows() { RxJavaPlugins.setErrorHandler(new Consumer<Throwable>() { int calls; @Override public void accept(Throwable e) { if (++calls == 2) { throw new RuntimeException(); } } }); TestSubscriber<Integer> ts = new TestSubscriber<Integer>() { @Override public void onError(Throwable e) { throw new RuntimeException(e); } }; SafeSubscriber<Integer> safe = new SafeSubscriber<Integer>(ts); safe.onSubscribe(new SubscriptionCancelThrows()); safe.onError(new TestException()); } @Test(expected = RuntimeException.class) @Ignore(\"Subscribers can't throw\") public void testPluginExceptionWhenUnsubscribing2() { RxJavaPlugins.setErrorHandler(new Consumer<Throwable>() { int calls; @Override public void accept(Throwable e) { if (++calls == 3) { throw new RuntimeException(); } } }); TestSubscriber<Integer> ts = new TestSubscriber<Integer>() { @Override public void onError(Throwable e) { throw new RuntimeException(e); } }; SafeSubscriber<Integer> safe = new SafeSubscriber<Integer>(ts); safe.onSubscribe(new SubscriptionCancelThrows()); safe.onError(new TestException()); }\n",
            "\r__label__1 if (cancelled) { return; } if (!delayErrors && errors.get() != null) { cancelAll(); a.onError(errors.terminate()); return; } if (cancelled) { return; } if (!delayErrors && errors.get() != null) { cancelAll(); a.onError(errors.terminate()); return; }\n"
          ],
          "name": "stdout"
        }
      ]
    },
    {
      "cell_type": "code",
      "metadata": {
        "id": "5kWKl_bSmkVi",
        "colab_type": "code",
        "colab": {}
      },
      "source": [
        "X_test = []\n",
        "y_test = []\n",
        "with open(all_test_file_name, 'r') as f:\n",
        "  for test_line in f:\n",
        "    if test_line == '\\n':\n",
        "      continue\n",
        "    y_test.append(int(test_line[9]))\n",
        "    X_test.append(test_line[11:].replace('\\n', ' '))"
      ],
      "execution_count": 0,
      "outputs": []
    },
    {
      "cell_type": "code",
      "metadata": {
        "id": "dqIVqb0cItSj",
        "colab_type": "code",
        "colab": {}
      },
      "source": [
        "import fasttext"
      ],
      "execution_count": 0,
      "outputs": []
    },
    {
      "cell_type": "code",
      "metadata": {
        "id": "SV_PyUPMrvkM",
        "colab_type": "code",
        "colab": {}
      },
      "source": [
        "model = fasttext.train_supervised(input_file_name)"
      ],
      "execution_count": 0,
      "outputs": []
    },
    {
      "cell_type": "code",
      "metadata": {
        "id": "Jbm2YkEH0_qO",
        "colab_type": "code",
        "colab": {}
      },
      "source": [
        "def predict_label(model, X_test):\n",
        "  #./fasttext predict model.bin test.txt\n",
        "  y_pred = model.predict(X_test)\n",
        "  y_pred_exp = np.array([int(y[0].replace('__label__', '')) for y in y_pred[0]])\n",
        "  return y_pred_exp\n",
        "\n",
        "def predict_proba(model, X_test):\n",
        "  y_prob = []\n",
        "  labels_and_probs = model.predict(X_test)\n",
        "  labels = labels_and_probs[0]\n",
        "  probs = labels_and_probs[1]\n",
        "  for i in range(len(labels)):\n",
        "    prob_1 = probs[i][0] if labels[i][0] == '__label__1' else 1 - probs[i][0]\n",
        "    y_prob.append(prob_1)\n",
        "  return y_prob"
      ],
      "execution_count": 0,
      "outputs": []
    },
    {
      "cell_type": "code",
      "metadata": {
        "id": "JPv9JRprSdJe",
        "colab_type": "code",
        "outputId": "20980ada-1752-4d3b-94cc-b38563a59064",
        "colab": {
          "base_uri": "https://localhost:8080/",
          "height": 323
        }
      },
      "source": [
        "y_proba = predict_proba(model, X_test)\n",
        "metrics.print_all_metrics(y_test, y_proba)"
      ],
      "execution_count": 26,
      "outputs": [
        {
          "output_type": "stream",
          "text": [
            "\n",
            "FNR: \n",
            "0.10718232044198896\n",
            "\n",
            "FPR: \n",
            "0.13591160220994475\n",
            "\n",
            "accuracy: \n",
            "0.7569060773480663\n",
            "\n",
            "precision: \n",
            "0.7474332648870636\n",
            "\n",
            "recall: \n",
            "0.789587852494577\n",
            "\n",
            "roc auc: \n",
            "0.8346888102853396\n"
          ],
          "name": "stdout"
        }
      ]
    },
    {
      "cell_type": "code",
      "metadata": {
        "id": "erGCgubwAXxp",
        "colab_type": "code",
        "colab": {}
      },
      "source": [
        "thr = 0.5\n",
        "\n",
        "y_pred = [int(y >= thr) for y in y_proba]\n",
        "_, fpr = metrics.calc_fnr_fpr(y_test, y_pred)\n",
        "while fpr - 0.10 >= 0.005:\n",
        "  thr += 0.0005\n",
        "  y_pred = [int(y >= thr) for y in y_proba]\n",
        "  _, fpr = metrics.calc_fnr_fpr(y_test, y_pred)"
      ],
      "execution_count": 0,
      "outputs": []
    },
    {
      "cell_type": "code",
      "metadata": {
        "id": "SKSqFjPy16Zv",
        "colab_type": "code",
        "outputId": "9fd704f0-7bf4-42aa-8fe1-aebc5262c4b2",
        "colab": {
          "base_uri": "https://localhost:8080/",
          "height": 34
        }
      },
      "source": [
        "thr"
      ],
      "execution_count": 28,
      "outputs": [
        {
          "output_type": "execute_result",
          "data": {
            "text/plain": [
              "0.6194999999999868"
            ]
          },
          "metadata": {
            "tags": []
          },
          "execution_count": 28
        }
      ]
    },
    {
      "cell_type": "code",
      "metadata": {
        "id": "ILPUDDr82-Aq",
        "colab_type": "code",
        "outputId": "de2e5dad-d0d4-4663-ec84-1ed895ef76b5",
        "colab": {
          "base_uri": "https://localhost:8080/",
          "height": 119
        }
      },
      "source": [
        "metrics.print_fnr_fpr(y_test, y_pred)"
      ],
      "execution_count": 29,
      "outputs": [
        {
          "output_type": "stream",
          "text": [
            "\n",
            "FNR: \n",
            "0.14511970534069982\n",
            "\n",
            "FPR: \n",
            "0.10497237569060773\n"
          ],
          "name": "stdout"
        }
      ]
    },
    {
      "cell_type": "code",
      "metadata": {
        "id": "bTrjxQKP7ZZY",
        "colab_type": "code",
        "outputId": "2e29a4ec-35c0-4858-c057-459362bc0800",
        "colab": {
          "base_uri": "https://localhost:8080/",
          "height": 170
        }
      },
      "source": [
        "metrics.print_metrics(y_test, y_pred)"
      ],
      "execution_count": 30,
      "outputs": [
        {
          "output_type": "stream",
          "text": [
            "\n",
            "accuracy: \n",
            "0.7499079189686925\n",
            "\n",
            "precision: \n",
            "0.7762951334379906\n",
            "\n",
            "recall: \n",
            "0.7151120751988431\n"
          ],
          "name": "stdout"
        }
      ]
    },
    {
      "cell_type": "code",
      "metadata": {
        "id": "92DQQQZFJEPn",
        "colab_type": "code",
        "colab": {
          "base_uri": "https://localhost:8080/",
          "height": 51
        },
        "outputId": "1584a539-1c39-4a8c-d924-6bc0b4caa6f7"
      },
      "source": [
        "!ls"
      ],
      "execution_count": 31,
      "outputs": [
        {
          "output_type": "stream",
          "text": [
            "all_tests.txt  data\tmetrics.py  __pycache__  train.txt   xmlextractor.py\n",
            "csv\t       log.txt\tmodels\t    test.txt\t v0.2.0.zip\n"
          ],
          "name": "stdout"
        }
      ]
    },
    {
      "cell_type": "code",
      "metadata": {
        "id": "MIUBjxs_-4p4",
        "colab_type": "code",
        "colab": {}
      },
      "source": [
        "model.save_model(\"models/fasttext_model.bin\")"
      ],
      "execution_count": 0,
      "outputs": []
    },
    {
      "cell_type": "code",
      "metadata": {
        "id": "7zfggJs9JKPR",
        "colab_type": "code",
        "colab": {}
      },
      "source": [
        ""
      ],
      "execution_count": 0,
      "outputs": []
    }
  ]
}